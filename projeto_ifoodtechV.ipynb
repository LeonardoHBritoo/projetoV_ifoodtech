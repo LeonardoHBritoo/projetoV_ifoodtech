{
 "cells": [
  {
   "attachments": {},
   "cell_type": "markdown",
   "metadata": {},
   "source": [
    "### Introdução sobre o Projeto"
   ]
  },
  {
   "attachments": {},
   "cell_type": "markdown",
   "metadata": {},
   "source": [
    "##### Etapa 1. Pré-Processamento dos Dados"
   ]
  },
  {
   "cell_type": "code",
   "execution_count": null,
   "metadata": {},
   "outputs": [],
   "source": [
    "#importando bibliotecas\n",
    "\n",
    "import pandas as pd \n",
    "import numpy as np\n",
    "import seaborn as sns \n",
    "\n",
    "import matplotlib.pyplot as plt\n",
    "\n",
    "from scipy.stats import zscore"
   ]
  },
  {
   "cell_type": "code",
   "execution_count": null,
   "metadata": {},
   "outputs": [],
   "source": [
    "#evitar avisos do seaborn\n",
    "\n",
    "import warnings\n",
    "warnings.filterwarnings(\"ignore\", category=FutureWarning)"
   ]
  },
  {
   "cell_type": "code",
   "execution_count": null,
   "metadata": {},
   "outputs": [],
   "source": [
    "#lendo o arquivo excel\n",
    "\n",
    "df_1 = pd.read_excel('Clean_Ads_Data.xlsx')"
   ]
  },
  {
   "cell_type": "code",
   "execution_count": null,
   "metadata": {},
   "outputs": [],
   "source": [
    "#visualizando as três primeiras linhas\n",
    "\n",
    "df_1.head(3)"
   ]
  },
  {
   "cell_type": "code",
   "execution_count": null,
   "metadata": {},
   "outputs": [],
   "source": [
    "#visualizando as três últimas linhas\n",
    "\n",
    "df_1.tail(3)"
   ]
  },
  {
   "cell_type": "code",
   "execution_count": null,
   "metadata": {},
   "outputs": [],
   "source": [
    "#visualizando as principais info do dataframe\n",
    "\n",
    "df_1.info()"
   ]
  },
  {
   "cell_type": "code",
   "execution_count": null,
   "metadata": {},
   "outputs": [],
   "source": [
    "#excluindo as colunas: Timestamp, InventoryType, Ad Type.\n",
    "\n",
    "df_1.drop([\"Timestamp\", \"InventoryType\", \"Ad Type\"], axis=1, inplace=True)"
   ]
  },
  {
   "cell_type": "code",
   "execution_count": null,
   "metadata": {},
   "outputs": [],
   "source": [
    "# selecionando dados qualitativo\n",
    "\n",
    "df_1_qualitative = df_1.iloc[:,2:7]\n",
    "\n",
    "df_1_qualitative"
   ]
  },
  {
   "cell_type": "code",
   "execution_count": null,
   "metadata": {},
   "outputs": [],
   "source": [
    "# selecionando dados quantativo\n",
    "\n",
    "df_1_quantitative = df_1.iloc[:,8:]\n",
    "\n",
    "df_1_quantitative"
   ]
  },
  {
   "cell_type": "code",
   "execution_count": null,
   "metadata": {},
   "outputs": [],
   "source": [
    "#principais estatísticas do dataframe - qualitativo\n",
    "\n",
    "df_1_qualitative.describe()"
   ]
  },
  {
   "cell_type": "code",
   "execution_count": null,
   "metadata": {},
   "outputs": [],
   "source": [
    "#principais estatísticas do dataframe - quantitativo\n",
    "\n",
    "df_1_quantitative.describe()"
   ]
  },
  {
   "cell_type": "code",
   "execution_count": null,
   "metadata": {},
   "outputs": [],
   "source": [
    "#função para visualizar os valores únicos e nulos por colunas\n",
    "\n",
    "def valores_unicos(df):\n",
    "    for coluna in df.columns:\n",
    "        print(f'Coluna {coluna}:')\n",
    "        \n",
    "        contar_valores = df[coluna].value_counts()\n",
    "        porcentagem_valores = df[coluna].value_counts(normalize=True) * 100\n",
    "        resultado_valores = pd.concat([contar_valores, porcentagem_valores], axis=1, \n",
    "                                     keys=['Qnt', 'Porcentagem']).round(2)\n",
    "        print(resultado_valores)\n",
    "\n",
    "        print(f'Valores nulos: {df[coluna].isnull().sum()}')\n",
    "        print('\\n')\n",
    "\n",
    "#visualizando os valores \n",
    "valores_unicos(df_1)"
   ]
  },
  {
   "cell_type": "code",
   "execution_count": null,
   "metadata": {},
   "outputs": [],
   "source": [
    "#removendo a única linha que possui valor nulo no data set\n",
    "\n",
    "df_1 = df_1.dropna(subset=['AD Size'])"
   ]
  },
  {
   "cell_type": "code",
   "execution_count": null,
   "metadata": {},
   "outputs": [],
   "source": [
    "#verificando se há linhas duplicadas \n",
    "\n",
    "df_1.duplicated().sum()"
   ]
  },
  {
   "cell_type": "code",
   "execution_count": null,
   "metadata": {},
   "outputs": [],
   "source": [
    "#organizando dataframe após remover linhas\n",
    "\n",
    "df_1.reset_index(inplace=True, drop=True)"
   ]
  },
  {
   "cell_type": "code",
   "execution_count": null,
   "metadata": {},
   "outputs": [],
   "source": [
    "#criando uma coluna para mês\n",
    "\n",
    "df_1['Month'] = df_1['Date'].dt.month\n",
    "\n",
    "\n",
    "#visualizando as três primeiras linhas \n",
    "\n",
    "df_1.head(3)"
   ]
  },
  {
   "cell_type": "code",
   "execution_count": null,
   "metadata": {},
   "outputs": [],
   "source": [
    "#substituir espaços e pontos por _ nos nomes das colunas\n",
    "\n",
    "df_1.columns = df_1.columns.str.replace(' ', '_').str.replace('.', '_' )\n",
    "\n",
    "#visualizando as três primeiras linhas \n",
    "\n",
    "df_1.head(3)"
   ]
  },
  {
   "cell_type": "code",
   "execution_count": null,
   "metadata": {},
   "outputs": [],
   "source": [
    "# Atualizando dados qualitativo e quantitativos após alterar estrutura do dataframe.\n",
    "\n",
    "df_1_qualitative = df_1.iloc[:,2:7]\n",
    "df_1_quantitative = df_1.iloc[:,8:-1]"
   ]
  },
  {
   "attachments": {},
   "cell_type": "markdown",
   "metadata": {},
   "source": [
    "##### 2. Identificação e Tratamento de Outliers"
   ]
  },
  {
   "cell_type": "code",
   "execution_count": null,
   "metadata": {},
   "outputs": [],
   "source": [
    "#visualizando distribuição das variáveis quantitativas - boxplot\n",
    "\n",
    "colunas_numericas = df_1_quantitative.columns\n",
    "\n",
    "fig, axes = plt.subplots(nrows=5, ncols=2, figsize=(15, 20))\n",
    "for n, variaveis in enumerate(colunas_numericas):\n",
    "    sns.boxplot(x=df_1[variaveis], ax=axes[n//2, n%2])\n",
    "    axes[n//2, n%2].set_title(variaveis)\n",
    "\n",
    "plt.tight_layout()\n",
    "plt.show()"
   ]
  },
  {
   "cell_type": "code",
   "execution_count": null,
   "metadata": {},
   "outputs": [],
   "source": [
    "#visualizando distribuição das variáveis quantitativas - Scatter plot\n",
    "\n",
    "colunas_numericas = df_1_quantitative.columns\n",
    "\n",
    "fig, axes = plt.subplots(nrows=5, ncols=2, figsize=(15, 20))\n",
    "for n, variaveis in enumerate(colunas_numericas):\n",
    "    sns.scatterplot(x= df_1[\"Date\"], y=df_1[variaveis], ax=axes[n//2, n%2])\n",
    "    axes[n//2, n%2].set_title(variaveis)\n",
    "\n",
    "plt.tight_layout()\n",
    "plt.show()"
   ]
  },
  {
   "cell_type": "code",
   "execution_count": null,
   "metadata": {},
   "outputs": [],
   "source": [
    "#visualizando distribuição das variáveis quantitativas - Histogram\n",
    "\n",
    "colunas_numericas = df_1_quantitative.columns\n",
    "\n",
    "fig, axes = plt.subplots(nrows=5, ncols=2, figsize=(15, 20))\n",
    "for n, variaveis in enumerate(colunas_numericas):\n",
    "    sns.histplot(x=df_1[variaveis], ax=axes[n//2, n%2])\n",
    "    axes[n//2, n%2].set_title(variaveis)\n",
    "\n",
    "plt.tight_layout()\n",
    "plt.show()"
   ]
  },
  {
   "attachments": {},
   "cell_type": "markdown",
   "metadata": {},
   "source": [
    "Standardization/Z-score"
   ]
  },
  {
   "cell_type": "code",
   "execution_count": null,
   "metadata": {},
   "outputs": [],
   "source": [
    "cols = list(df_1_quantitative.columns)\n",
    "cols"
   ]
  },
  {
   "cell_type": "code",
   "execution_count": null,
   "metadata": {},
   "outputs": [],
   "source": [
    "df_1_quantitative[cols] = df_1_quantitative[cols].apply(zscore)\n",
    "df_1_quantitative"
   ]
  },
  {
   "attachments": {},
   "cell_type": "markdown",
   "metadata": {},
   "source": [
    "\"\"\"3 - means that 99.7% of the data is saved\n",
    "2 - means that 95.44% of the data is saved\n",
    "1 - means that 68.26% of the data is saved\"\"\""
   ]
  },
  {
   "cell_type": "code",
   "execution_count": null,
   "metadata": {},
   "outputs": [],
   "source": [
    "outliers_threshold = 1\n",
    "\n",
    "selected_dada = df_1_quantitative[cols].abs() <= outliers_threshold\n",
    "\n",
    "not_selected_dada = ~(selected_dada)"
   ]
  },
  {
   "cell_type": "code",
   "execution_count": null,
   "metadata": {},
   "outputs": [],
   "source": [
    "selected_dada"
   ]
  },
  {
   "cell_type": "code",
   "execution_count": null,
   "metadata": {},
   "outputs": [],
   "source": [
    "not_selected_dada"
   ]
  },
  {
   "cell_type": "code",
   "execution_count": null,
   "metadata": {},
   "outputs": [],
   "source": [
    "mask = (selected_dada).all(axis=1)\n",
    "mask"
   ]
  },
  {
   "cell_type": "code",
   "execution_count": null,
   "metadata": {},
   "outputs": [],
   "source": [
    "df_1 = df_1[mask]"
   ]
  },
  {
   "cell_type": "code",
   "execution_count": null,
   "metadata": {},
   "outputs": [],
   "source": [
    "df_1.info()"
   ]
  },
  {
   "cell_type": "code",
   "execution_count": null,
   "metadata": {},
   "outputs": [],
   "source": [
    "#visualizando distribuição das variáveis quantitativas - boxplot\n",
    "\n",
    "colunas_numericas = df_1_quantitative.columns\n",
    "\n",
    "fig, axes = plt.subplots(nrows=5, ncols=2, figsize=(15, 20))\n",
    "for n, variaveis in enumerate(colunas_numericas):\n",
    "    sns.boxplot(x=df_1[variaveis], ax=axes[n//2, n%2])\n",
    "    axes[n//2, n%2].set_title(variaveis)\n",
    "\n",
    "plt.tight_layout()\n",
    "plt.show()"
   ]
  }
 ],
 "metadata": {
  "kernelspec": {
   "display_name": "base",
   "language": "python",
   "name": "python3"
  },
  "language_info": {
   "codemirror_mode": {
    "name": "ipython",
    "version": 3
   },
   "file_extension": ".py",
   "mimetype": "text/x-python",
   "name": "python",
   "nbconvert_exporter": "python",
   "pygments_lexer": "ipython3",
   "version": "3.11.3"
  }
 },
 "nbformat": 4,
 "nbformat_minor": 2
}
